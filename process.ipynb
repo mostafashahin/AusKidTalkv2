{
 "cells": [
  {
   "cell_type": "code",
   "execution_count": 4,
   "id": "49a0140b-5fa4-4a1d-a893-30c9943bb1c0",
   "metadata": {},
   "outputs": [],
   "source": [
    "import stt.ibm.stt as ibm_stt\n",
    "import tools.txtgrid_master.TextGrid_Master as tgm\n",
    "import librosa"
   ]
  },
  {
   "cell_type": "code",
   "execution_count": null,
   "id": "4ab3f05b-5e61-460e-bfb6-fef013c2cf9d",
   "metadata": {},
   "outputs": [],
   "source": []
  }
 ],
 "metadata": {
  "kernelspec": {
   "display_name": "Python 3 (ipykernel)",
   "language": "python",
   "name": "python3"
  },
  "language_info": {
   "codemirror_mode": {
    "name": "ipython",
    "version": 3
   },
   "file_extension": ".py",
   "mimetype": "text/x-python",
   "name": "python",
   "nbconvert_exporter": "python",
   "pygments_lexer": "ipython3",
   "version": "3.9.5"
  }
 },
 "nbformat": 4,
 "nbformat_minor": 5
}
